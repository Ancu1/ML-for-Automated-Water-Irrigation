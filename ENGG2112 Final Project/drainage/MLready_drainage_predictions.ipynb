{
 "cells": [
  {
   "cell_type": "code",
   "execution_count": 2,
   "metadata": {},
   "outputs": [],
   "source": [
    "import pandas as pd\n",
    "df = pd.read_csv(\"drainage_predictions.csv\")"
   ]
  },
  {
   "cell_type": "code",
   "execution_count": 5,
   "metadata": {},
   "outputs": [],
   "source": [
    "df_clean = df.dropna(subset=['date'])\n",
    "df_clean.to_csv('drainage_ML_original.csv', index=False)"
   ]
  },
  {
   "cell_type": "code",
   "execution_count": 7,
   "metadata": {},
   "outputs": [],
   "source": [
    "from sklearn.preprocessing import StandardScaler\n",
    "\n",
    "features_to_scale = [\n",
    "    'water_level', 'tempreature', 'humidity',\n",
    "    'N', 'P', 'K',\n",
    "    'clay_pct', 'sand_pct', 'silt_pct',\n",
    "    'bulk_density_gcm3', 'ph_water',\n",
    "    'Predicted_Drainage'\n",
    "]\n",
    "\n",
    "scaler = StandardScaler()\n",
    "X_scaled = scaler.fit_transform(df_clean[features_to_scale])\n",
    "\n",
    "# Convert to DataFrame\n",
    "df_scaled = pd.DataFrame(X_scaled, columns=features_to_scale)\n",
    "df_scaled['date'] = df_clean['date'].values\n",
    "df_scaled['Drainage_Class'] = df_clean['Drainage_Class'].values\n",
    "\n",
    "# Save\n",
    "df_scaled.to_csv('drainage_ML_standardised.csv', index=False)\n"
   ]
  }
 ],
 "metadata": {
  "kernelspec": {
   "display_name": "base",
   "language": "python",
   "name": "python3"
  },
  "language_info": {
   "codemirror_mode": {
    "name": "ipython",
    "version": 3
   },
   "file_extension": ".py",
   "mimetype": "text/x-python",
   "name": "python",
   "nbconvert_exporter": "python",
   "pygments_lexer": "ipython3",
   "version": "3.12.2"
  }
 },
 "nbformat": 4,
 "nbformat_minor": 2
}
